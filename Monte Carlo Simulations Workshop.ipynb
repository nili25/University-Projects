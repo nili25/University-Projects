{
 "cells": [
  {
   "cell_type": "markdown",
   "metadata": {},
   "source": [
    "# Monte Carlo Simulations"
   ]
  },
  {
   "cell_type": "markdown",
   "metadata": {
    "id": "lnOb6aTkNi1z"
   },
   "source": [
    "Using Monte Carlo algorithms to show how casinos make money.\n",
    "\n",
    "GAMEPLAY: A player has to choose a number between 1-100 on a spinning wheel and then choose whether the wheel spin will give an even or odd number.\n",
    "\n",
    "In this game, 10 and 11 are special numbers. If they bet on evens, 10 will be counted as an odd number, and if you they on odds, 11 will be counted as an even number. Therefore if the player bets on even numbers and gets 10 then they lose, and if they bet on odd numbers and get 11 then they also lose.\n",
    "\n",
    "If they bet on odds, the probability that they will win is 49/100. The probability that the house wins is 51/100.\n",
    "\n",
    "If they bet on evens, the probability that they will win is 49/100. The probability that the house wins is 51/100. \n",
    "\n",
    "Therefore, for every £1 bet, £0.02 goes to the house.\n",
    "\n",
    "In the code below, I'm investigating how the number of times you play the game affects your winnings."
   ]
  },
  {
   "cell_type": "markdown",
   "metadata": {
    "id": "HoeVjosSNi10"
   },
   "source": [
    "# Task 1"
   ]
  },
  {
   "cell_type": "code",
   "execution_count": null,
   "metadata": {
    "id": "CqBetkYzNi11"
   },
   "outputs": [],
   "source": [
    "import random\n",
    "import matplotlib.pyplot as plt\n",
    "\n",
    "\n",
    "def money(bet_amount, bool):\n",
    "        turn_fund=0\n",
    "        #this is for the case that they have won\n",
    "        if bool == True:\n",
    "            turn_fund += bet_amount\n",
    "\n",
    "        else:\n",
    "            turn_fund -= bet_amount\n",
    "\n",
    "        return turn_fund\n",
    "\n",
    "\n",
    "#Gives the user a chance to bet as many times\n",
    "repeat = int(input(\"State how many times you would like to bet\"))\n",
    "totalfund = 1000\n",
    "iarray = []\n",
    "fundarray = []\n",
    "\n",
    "\n",
    "for i in range (0, repeat):\n",
    "    if totalfund <= 0:\n",
    "        print (\"You're broke\")\n",
    "        break\n",
    "    #the array that stores the number of times the code has been run\n",
    "\n",
    "    choice = input (\"Do you want to bet on an even number or odd number \\n\")\n",
    "\n",
    "    #for even\n",
    "    if choice==\"even\":\n",
    "        def picknum():\n",
    "        #Get random number between 1-100.\n",
    "            num = random.randint(1,100)\n",
    "            #define our game conditions.\n",
    "            if num%2!=0 or num==10:\n",
    "                return False\n",
    "            #this is the condition that proves its an even number\n",
    "            elif num%2==0:\n",
    "                return True\n",
    "\n",
    "            print (num)\n",
    "\n",
    "\n",
    "    #for odd\n",
    "    elif choice==\"odd\":\n",
    "        def picknum():\n",
    "            num = random.randint(1,100)\n",
    "            if num%2==0 or num==11:\n",
    "                return False\n",
    "            #this is the condition that proves its an odd number\n",
    "            elif num%2!=0:\n",
    "                return True\n",
    "\n",
    "            print (num)\n",
    "\n",
    "\n",
    "    #summing the total wins and losses\n",
    "    bool = picknum()\n",
    "    print(bool)\n",
    "    bet_amount = float(input(\"Enter how much money you would like to bet\"))\n",
    "\n",
    "    cashmonies = money(bet_amount, bool)\n",
    "    totalfund = totalfund + cashmonies\n",
    "    print (\"You have earned £\", totalfund)\n",
    "\n",
    "\n",
    "    i = i + 1\n",
    "    fundarray.append(totalfund)\n",
    "    iarray.append(i)\n",
    "\n",
    "\n",
    "\n",
    "\n",
    "print(\"The 1st Array is: \", fundarray)\n",
    "print(\"The 2nd Array is: \", iarray)\n",
    "\n",
    "\n",
    "#plots the number of times they play aginst their total fund\n",
    "plt.title('Number of times against total fund')\n",
    "plt.xlabel('Number of times')\n",
    "plt.ylabel('Total fund')\n",
    "plt.plot(iarray,fundarray)\n",
    "plt.show()"
   ]
  },
  {
   "cell_type": "markdown",
   "metadata": {},
   "source": [
    "Created a function that adds the bet money to the players total fund if they win and subtracts the bet money from the total fund if they lose and plots the number of times they play against their total fund:"
   ]
  },
  {
   "cell_type": "code",
   "execution_count": null,
   "metadata": {
    "id": "mFcYBkxFNi12"
   },
   "outputs": [],
   "source": [
    "import random\n",
    "import matplotlib.pyplot as plt\n",
    "\n",
    "\n",
    "def money(bet_amount, bool):\n",
    "        turn_fund=0\n",
    "        #this is for the case that they have won\n",
    "        if bool == True:\n",
    "            turn_fund += bet_amount\n",
    "\n",
    "        else:\n",
    "            turn_fund -= bet_amount\n",
    "\n",
    "        return turn_fund\n",
    "\n",
    "\n",
    "def randomchoice():\n",
    "    number = np.random.randint(2)\n",
    "    return number\n",
    "\n",
    "\n",
    "#Gives the user a chance to bet as many times\n",
    "repeat = 5\n",
    "totalfund = 10000\n",
    "iarray = []\n",
    "fundarray = []\n",
    "\n",
    "print (totalfund)"
   ]
  },
  {
   "cell_type": "code",
   "execution_count": null,
   "metadata": {
    "id": "2lOteJYUNi13"
   },
   "outputs": [],
   "source": []
  }
 ],
 "metadata": {
  "colab": {
   "provenance": []
  },
  "kernelspec": {
   "display_name": "Python 3",
   "language": "python",
   "name": "python3"
  },
  "language_info": {
   "codemirror_mode": {
    "name": "ipython",
    "version": 3
   },
   "file_extension": ".py",
   "mimetype": "text/x-python",
   "name": "python",
   "nbconvert_exporter": "python",
   "pygments_lexer": "ipython3",
   "version": "3.8.8"
  }
 },
 "nbformat": 4,
 "nbformat_minor": 1
}
