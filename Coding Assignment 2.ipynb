{
 "cells": [
  {
   "cell_type": "markdown",
   "metadata": {},
   "source": [
    "# Assignment 4\n",
    "\n",
    "In this assignment you will practise what we have learned about handling arrays, repetitive tasks using loops, and using functions. This assignment is worth 20 marks and 2 of those marks will be awarded for good comments in your code. \n",
    "\n",
    "## Part 1 :\n",
    "\n",
    "(6 marks out of 20) Using NumPy and matplotlib, plot the following function :\n",
    "\n",
    "$$ e^{-ax} cos(x) $$\n",
    "\n",
    "where $x$ has 100 values spanning the interval (0, 4$\\pi$) and where $a$ is a value in the range 0 to 1 that you specify in your code. You will need to create two arrays, x and y, to do this. "
   ]
  },
  {
   "cell_type": "markdown",
   "metadata": {},
   "source": [
    "ALL CODE BELOW IS WRITTEN BY MYSELF"
   ]
  },
  {
   "cell_type": "code",
   "execution_count": 8,
   "metadata": {
    "scrolled": true
   },
   "outputs": [
    {
     "data": {
      "image/png": "[encoded data removed]",
      "text/plain": [
       "<Figure size 432x288 with 1 Axes>"
      ]
     },
     "metadata": {
      "needs_background": "light"
     },
     "output_type": "display_data"
    }
   ],
   "source": [
    "import matplotlib.pyplot as plt    #importing the libraries to use in the code\n",
    "import numpy as np\n",
    "import math                        #importing math to use when declaring values with pi\n",
    "\n",
    "\n",
    "a = 0.25                           #chosen a value for the integral\n",
    "x = np.linspace(0,4*math.pi,100)   #using linspace to store the float values in the array\n",
    "y = ((np.exp(-a*x))*(np.cos(x)))\n",
    "\n",
    "\n",
    "plt.plot(x, y)\n",
    "plt.show()"
   ]
  },
  {
   "cell_type": "markdown",
   "metadata": {},
   "source": [
    "## Part 2 :\n",
    "\n",
    "(8 marks out of 20) Numerically integrate the function $y(x)$ given in part 1. To calculate the integral of $y(x)$ implement your own python function $\\texttt{my}\\_\\texttt{integrate(x,y)}$ which takes as input the arrays $x$ and $y$ and returns the integrated value of $y(x)$ calculated using the following naive approximation : \n",
    "\n",
    "$$ \\int y(x) dx \\approx \\sum^{N}_{i=1} y_i (x_i - x_{i-1}) $$\n",
    "\n",
    "here $y_i$ and $x_i$ are the elements (i.e. the i$^{th}$ elements) of the arrays. Thus $\\texttt{my}\\_\\texttt{integrate(x,y)}$ should calculate the sum on the right. Print the integral value returned by $\\texttt{my}\\_\\texttt{integrate(x,y)}$ for your specific value of $a$.\n",
    "\n",
    "See diagram at the bottom of the workbook for a simple illustration of the naive numerical integration method."
   ]
  },
  {
   "cell_type": "code",
   "execution_count": 9,
   "metadata": {},
   "outputs": [
    {
     "name": "stdout",
     "output_type": "stream",
     "text": [
      "The integral value for this sum is:  0.16472367014940975 when a =  0.25\n"
     ]
    }
   ],
   "source": [
    "def my_integrate(x,y):\n",
    "    sums = 0                              #setting variable as zero to then use for totaling\n",
    "    for i in range(1,(len(x))):\n",
    "        sums += (y[i]*(x[i]-(x[i-1])))    #equation given above used to solve the integral\n",
    "    return sums\n",
    "\n",
    "import matplotlib.pyplot as plt           #importing all libraries required in the code\n",
    "import numpy as np\n",
    "import math\n",
    "\n",
    "a = 0.25\n",
    "x = np.linspace(0,4*math.pi,100)          #using linspace to store the float values in the array\n",
    "y = ((np.exp(-a*x))*(np.cos(x)))          #y acts as a scalar variable in the function\n",
    "\n",
    "integral = my_integrate(x,y)              #integral catches the returned sums from the my_integrate function\n",
    "print (\"The integral value for this sum is: \",integral,\"when a = \",a)   \n"
   ]
  },
  {
   "cell_type": "markdown",
   "metadata": {},
   "source": [
    "## Part 3 :\n",
    "\n",
    "(6 marks out of 20) Use SciPy's function $\\texttt{integrate.simps}$ to integrate the function $y(x)$ from part 1 and print the integral value on the screen. Read the interactive help on $\\texttt{scipy.integrate.simps}$ to find out about the usage and parameters. Remember that you will need to import the integrate library. "
   ]
  },
  {
   "cell_type": "code",
   "execution_count": 10,
   "metadata": {},
   "outputs": [
    {
     "name": "stdout",
     "output_type": "stream",
     "text": [
      "The integral is: 0.22504565499745072\n"
     ]
    }
   ],
   "source": [
    "from scipy import integrate              #import known libraries to the code\n",
    "\n",
    "integrals = integrate.simps(y,x)         #switch the order in which the y and x values are passed in since y is a scalar value and should be passed in first \n",
    "print (\"The integral is:\", integrals)    #print out the known integral from the simpsons method\n"
   ]
  },
  {
   "cell_type": "markdown",
   "metadata": {},
   "source": [
    "<b> Testing your code </b> \n",
    "If your code is working properly, for a=0.25, you should get the following results:\n",
    "\n",
    "Own 'integrate' function:   0.164723670149\n",
    "\n",
    "Simpsons method:   0.225045654997"
   ]
  }
 ],
 "metadata": {
  "kernelspec": {
   "display_name": "Python 3",
   "language": "python",
   "name": "python3"
  },
  "language_info": {
   "codemirror_mode": {
    "name": "ipython",
    "version": 3
   },
   "file_extension": ".py",
   "mimetype": "text/x-python",
   "name": "python",
   "nbconvert_exporter": "python",
   "pygments_lexer": "ipython3",
   "version": "3.8.8"
  }
 },
 "nbformat": 4,
 "nbformat_minor": 4
}
