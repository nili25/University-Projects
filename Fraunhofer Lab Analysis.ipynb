{
 "cells": [
  {
   "cell_type": "markdown",
   "metadata": {},
   "source": [
    "# Fraunhofer Diffraction Analysis"
   ]
  },
  {
   "cell_type": "markdown",
   "metadata": {},
   "source": [
    "Fitting functions for intensity as a function of angle for data analysis (in a lab notebook)"
   ]
  },
  {
   "cell_type": "code",
   "execution_count": null,
   "metadata": {},
   "outputs": [],
   "source": [
    "#!/usr/bin/env python3\n",
    "import matplotlib.pyplot as plt\n",
    "import matplotlib.image as mpimg\n",
    "import numpy as np\n",
    "import scipy.optimize as opt\n",
    "\n",
    "#this is for the 80 micrometers!!!!\n",
    "\n",
    "slit_distance = 0.02  # Distance from slit to CCD [m]\n",
    "wavelength = 0.6328e-6  # Wavelength of laser [m]\n",
    "pixel_size = 1.e-6  # Pixel size [m]\n",
    "\n",
    "estimated_slit_width = 100.e-6  # Give rough estimate of slit width [m]\n",
    "estimated_intensity = 1.  \t# Should be ~1 from normalisation (see later)\n",
    "\n",
    "# Reading in image file as a 2D array.\n",
    "img = mpimg.imread('./FD_test_25.05.2021_100um.tif')\n",
    "imgplot = plt.imshow(img)   # Plot 2D image as colour map\n",
    "plt.show()\n",
    "\n",
    "\n",
    "# Summing all rows in 2D array to make 1D intensity plot as a function of pixel\n",
    "# number\n",
    "recorded_intensity = np.sum(img, axis=0).tolist()\n",
    "\n",
    "# Intensity as a function of theta\n",
    "n_pix = len(recorded_intensity)\n",
    "theta = []\n",
    "max_intensity = np.max(recorded_intensity)\n",
    "normalised_intensity = recorded_intensity/max_intensity  # Normalise spectrum\n",
    "\n",
    "# Calculate theta\n",
    "# You will need to edit this to get values of theta\n",
    "for i in range(0, n_pix):\n",
    "    exit('You have to calculate theta here.')  # Remove this\n",
    "    theta.append()  # Append your theta calculation to the list\n",
    "\n",
    "\n",
    "# Defined fit function\n",
    "def sinc2_func(x, intensity, constant):\n",
    "    psi = constant * np.sin(np.array(x))\n",
    "    return intensity * (np.sinc(psi))**2\n",
    "\n",
    "params, params_covariance = opt.curve_fit(sinc2_func,\n",
    "                                          theta,\n",
    "                                          normalised_intensity,\n",
    "                                          p0=[estimated_intensity,\n",
    "                                              estimated_slit_width])\n",
    "\n",
    "\n",
    "# Output results of fit to terminal\n",
    "print('Results from fit:', params)\n",
    "print('Covariance matrix from fit:', params_covariance)\n",
    "\n",
    "# A plot of \"normalised_intensity\" as a function of \"theta\", with\n",
    "# the fit on top.\n",
    "plt.figure(figsize=(6, 4))\n",
    "plt.scatter(theta, normalised_intensity, label='Data', s=0.5)\n",
    "plt.plot(theta, sinc2_func(theta, *params), label='Fitted function', c='r')\n",
    "plt.legend(loc='best')\n",
    "plt.show()\n",
    "\n"
   ]
  }
 ],
 "metadata": {
  "colab": {
   "provenance": []
  },
  "kernelspec": {
   "display_name": "Python 3",
   "language": "python",
   "name": "python3"
  },
  "language_info": {
   "codemirror_mode": {
    "name": "ipython",
    "version": 3
   },
   "file_extension": ".py",
   "mimetype": "text/x-python",
   "name": "python",
   "nbconvert_exporter": "python",
   "pygments_lexer": "ipython3",
   "version": "3.8.8"
  }
 },
 "nbformat": 4,
 "nbformat_minor": 1
}
